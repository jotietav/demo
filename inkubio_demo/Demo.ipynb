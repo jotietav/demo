{
 "cells": [
  {
   "cell_type": "code",
   "execution_count": null,
   "metadata": {},
   "outputs": [],
   "source": [
    "import matplotlib.pyplot as plt\n",
    "import pandas"
   ]
  },
  {
   "cell_type": "markdown",
   "metadata": {},
   "source": [
    "# Ladataan data\n",
    "Eduskuntavaalien 2019 anonymisoitu vaalikonedata.\n",
    "Lähde: [YLE](https://yle.fi/uutiset/3-10725384)"
   ]
  },
  {
   "cell_type": "code",
   "execution_count": null,
   "metadata": {},
   "outputs": [],
   "source": [
    "df = pandas.read_csv('Avoin_data_eduskuntavaalit_2019_valintatiedot.csv')\n",
    "print('Data sisältää {rows} riviä ja {cols} kolumnia.'.format(rows=df.shape[0], cols=df.shape[1]))\n",
    "df.head()"
   ]
  },
  {
   "cell_type": "code",
   "execution_count": null,
   "metadata": {},
   "outputs": [],
   "source": [
    "df.groupby(['vaalipiiri'])['Euron ulkopuolella Suomi pärjäisi paremmin.'].mean()"
   ]
  },
  {
   "cell_type": "markdown",
   "metadata": {},
   "source": [
    "Muutetaan kolumnien datatyypit numeroiksi."
   ]
  },
  {
   "cell_type": "code",
   "execution_count": null,
   "metadata": {},
   "outputs": [],
   "source": [
    "for col in df.columns:\n",
    "    try:\n",
    "        df[col] = df[col].apply(lambda x: None if x == '-' else float(x))\n",
    "    except ValueError:\n",
    "        continue"
   ]
  },
  {
   "cell_type": "markdown",
   "metadata": {},
   "source": [
    "Tehdään pari nopeaa laskutoimitusta."
   ]
  },
  {
   "cell_type": "code",
   "execution_count": null,
   "metadata": {},
   "outputs": [],
   "source": [
    "df.groupby(['vaalipiiri'])['Euron ulkopuolella Suomi pärjäisi paremmin.'].mean()"
   ]
  },
  {
   "cell_type": "code",
   "execution_count": null,
   "metadata": {},
   "outputs": [],
   "source": [
    "df.groupby(['puolue'])['Euron ulkopuolella Suomi pärjäisi paremmin.'].mean().sort_values(ascending=False)"
   ]
  },
  {
   "cell_type": "markdown",
   "metadata": {},
   "source": [
    "Rajataan data vain yhteen vaalipiiriin."
   ]
  },
  {
   "cell_type": "code",
   "execution_count": null,
   "metadata": {},
   "outputs": [],
   "source": [
    "uusimaa = df[df['vaalipiiri'] == 'Uudenmaan vaalipiiri']\n",
    "uusimaa.head()"
   ]
  },
  {
   "cell_type": "code",
   "execution_count": null,
   "metadata": {},
   "outputs": [],
   "source": [
    "uusimaa.groupby(['puolue'])['Euron ulkopuolella Suomi pärjäisi paremmin.'].mean().sort_values(ascending=False)"
   ]
  },
  {
   "cell_type": "code",
   "execution_count": null,
   "metadata": {},
   "outputs": [],
   "source": [
    "uusimaa.groupby(['puolue'])['Euron ulkopuolella Suomi pärjäisi paremmin.'].mean().sort_values(ascending=False) -\\\n",
    "    df.groupby(['puolue'])['Euron ulkopuolella Suomi pärjäisi paremmin.'].mean().sort_values(ascending=False)"
   ]
  },
  {
   "cell_type": "code",
   "execution_count": null,
   "metadata": {
    "scrolled": false
   },
   "outputs": [],
   "source": [
    "df.mean().head(10)"
   ]
  },
  {
   "cell_type": "code",
   "execution_count": null,
   "metadata": {},
   "outputs": [],
   "source": [
    "groupcol = ['puolue', 'Valintatieto (0=ei valita, 1=valitaan, 2=varalla)']\n",
    "df[[col for col in df.columns if 'Uusimaa' in col] + groupcol].groupby(groupcol).mean()"
   ]
  },
  {
   "cell_type": "markdown",
   "metadata": {},
   "source": [
    "Rajataan data vain koko maata koskeviin kysymyksiin."
   ]
  },
  {
   "cell_type": "code",
   "execution_count": null,
   "metadata": {},
   "outputs": [],
   "source": [
    "datacols = df.columns[0:32].tolist() + ['Sukupuolesi', 'Koulutuksesi']\n",
    "datacols = datacols[:2] + datacols[-2: ] + datacols[2:-2]\n",
    "data = df[datacols]\n",
    "data.head()"
   ]
  },
  {
   "cell_type": "markdown",
   "metadata": {},
   "source": [
    "Tehdään yksinkertainen PCA visualisointia varten.\n",
    "\n",
    "Aluksi, standardoidaan data (yksikkö varianssi, nolla keskiarvo)."
   ]
  },
  {
   "cell_type": "code",
   "execution_count": null,
   "metadata": {},
   "outputs": [],
   "source": [
    "from sklearn.preprocessing import StandardScaler\n",
    "\n",
    "features = data.columns[5:].tolist()\n",
    "x = data.loc[:, features].values\n",
    "x = StandardScaler().fit_transform(x)"
   ]
  },
  {
   "cell_type": "code",
   "execution_count": null,
   "metadata": {},
   "outputs": [],
   "source": [
    "from sklearn.decomposition import PCA\n",
    "pca = PCA(n_components=2)\n",
    "\n",
    "pcomp = pca.fit_transform(x)"
   ]
  },
  {
   "cell_type": "markdown",
   "metadata": {},
   "source": [
    "Täytetään tyhjät arvot kolumnin keskiarvolla."
   ]
  },
  {
   "cell_type": "code",
   "execution_count": null,
   "metadata": {},
   "outputs": [],
   "source": [
    "data = data.fillna(data.mean())\n",
    "x = data.loc[:, features].values\n",
    "scaled = StandardScaler().fit_transform(x)\n",
    "n_components = 4\n",
    "pca = PCA(n_components=n_components)\n",
    "\n",
    "pcomp = pca.fit_transform(scaled)\n",
    "principaldf = pandas.DataFrame(data = pcomp, columns = ['pc{n}'.format(n=i+1) for i in range(n_components)])\n",
    "print(pca.explained_variance_ratio_.sum())"
   ]
  },
  {
   "cell_type": "code",
   "execution_count": null,
   "metadata": {},
   "outputs": [],
   "source": [
    "explained = pandas.DataFrame(pca.components_, columns=features,\n",
    "                             index =['pc{n}'.format(n=i+1) for i in range(n_components)]).transpose()\n",
    "explained.sort_values('pc1')"
   ]
  },
  {
   "cell_type": "code",
   "execution_count": null,
   "metadata": {},
   "outputs": [],
   "source": [
    "principaldf.plot(kind='scatter', x='pc1', y='pc2', grid=True)\n",
    "plt.show()"
   ]
  },
  {
   "cell_type": "code",
   "execution_count": null,
   "metadata": {},
   "outputs": [],
   "source": [
    "pca_df = data[data.columns[:4]].merge(principaldf, left_index=True, right_index=True)\n",
    "pca_df.head()"
   ]
  },
  {
   "cell_type": "code",
   "execution_count": null,
   "metadata": {},
   "outputs": [],
   "source": [
    "import seaborn as sns\n",
    "col = 'puolue'\n",
    "# Unique category labels: 'D', 'F', 'G', ...\n",
    "color_labels = pca_df[col].unique()\n",
    "\n",
    "# List of RGB triplets\n",
    "rgb_values = sns.color_palette(\"tab20\", pca_df[col].nunique())\n",
    "\n",
    "# Map label to RGB\n",
    "color_map = dict(zip(color_labels, rgb_values))\n",
    "\n",
    "ax = pca_df.plot(kind='scatter', x='pc1', y='pc2', c=df[col].map(color_map), grid=True, alpha=0.6)\n",
    "grouped = pca_df.groupby(col)[['pc1', 'pc2']].mean()\n",
    "grouped.plot(kind='scatter', ax=ax, x='pc1', y='pc2', c=grouped.index.map(color_map), grid=True, marker='X', s=100)\n",
    "plt.show()"
   ]
  },
  {
   "cell_type": "markdown",
   "metadata": {},
   "source": [
    "Kuva voisi olla interaktiivinen.\n",
    "\n",
    "Aja komentorivillä: jupyter nbextension enable --py widgetsnbextension"
   ]
  },
  {
   "cell_type": "code",
   "execution_count": null,
   "metadata": {},
   "outputs": [],
   "source": [
    "import ipywidgets as widgets\n",
    "from ipywidgets import interactive, interact_manual\n",
    "\n",
    "from IPython.display import display"
   ]
  },
  {
   "cell_type": "code",
   "execution_count": null,
   "metadata": {
    "scrolled": false
   },
   "outputs": [],
   "source": [
    "plot_output = widgets.Output()\n",
    "puolueet = pca_df['puolue'].unique().tolist()\n",
    "puolueet.sort()\n",
    "vaalipiirit = pca_df['vaalipiiri'].unique().tolist()\n",
    "sukupuolet = pca_df['Sukupuolesi'].unique().tolist()\n",
    "koulutukset = pca_df['Koulutuksesi'].unique().tolist()\n",
    "\n",
    "puolue_widget = widgets.SelectMultiple(\n",
    "    options=puolueet,\n",
    "    description='Puolueet',\n",
    "    disabled=False\n",
    ")\n",
    "vaalipiiri_widget = widgets.SelectMultiple(\n",
    "    options=vaalipiirit,\n",
    "    description='Vaalipiirit',\n",
    "    disabled=False\n",
    ")\n",
    "sukupuoli_widget = widgets.SelectMultiple(\n",
    "    options=sukupuolet,\n",
    "    description='Sukupuoli',\n",
    "    disabled=False\n",
    ")\n",
    "koulutus_widget = widgets.SelectMultiple(\n",
    "    options=koulutukset,\n",
    "    description='Koulutus',\n",
    "    disabled=False\n",
    ")\n",
    "visualize_column_widget = widgets.Dropdown(\n",
    "    options=['puolue', 'vaalipiiri', 'Sukupuolesi', 'Koulutuksesi'],\n",
    "    default='puolue',\n",
    "    description='Visualisoi kolumnin mukaan',\n",
    "    disabled=False\n",
    ")\n",
    "\n",
    "def puolue_eventhandler(change):\n",
    "    common_filtering(change.new, dropdown_purpose.value,\n",
    "                     bounded_num.value)\n",
    "def dropdown_purpose_eventhandler(change):\n",
    "    common_filtering(dropdown_year.value, change.new, \n",
    "                     bounded_num.value)\n",
    "\n",
    "def create_colormap(data, col):\n",
    "    # Unique category labels: 'D', 'F', 'G', ...\n",
    "    color_labels = data[col].unique()\n",
    "    # List of RGB triplets\n",
    "    rgb_values = sns.color_palette(\"tab20\", data[col].nunique())\n",
    "    # Map label to RGB\n",
    "    color_map = dict(zip(color_labels, rgb_values))\n",
    "    return color_map\n",
    "\n",
    "    \n",
    "def visualize_data(puolue, vaalipiiri, sukupuoli, koulutus, visualisoi):\n",
    "    color_maps = {\n",
    "        'puolue': create_colormap(pca_df, 'puolue'),\n",
    "        'vaalipiiri': create_colormap(pca_df, 'vaalipiiri'),\n",
    "        'Sukupuolesi': create_colormap(pca_df, 'Sukupuolesi'),\n",
    "        'Koulutuksesi': create_colormap(pca_df, 'Koulutuksesi')\n",
    "    }\n",
    "    plot_output.clear_output()\n",
    "    filtered = pca_df\n",
    "    if puolue:\n",
    "        filtered = filtered[filtered['puolue'].isin(puolue)]\n",
    "    if vaalipiiri:\n",
    "        filtered = filtered[filtered['vaalipiiri'].isin(vaalipiiri)]\n",
    "    if sukupuoli:\n",
    "        filtered = filtered[filtered['Sukupuolesi'].isin(sukupuoli)]\n",
    "    if koulutus:\n",
    "        filtered = filtered[filtered['Koulutuksesi'].isin(koulutus)]\n",
    "    with plot_output:\n",
    "        grouped = filtered.groupby(visualisoi)[['pc1', 'pc2']].mean()\n",
    "        ax = filtered.plot(kind='scatter', x='pc1', y='pc2', c=filtered[visualisoi].map(color_maps[visualisoi]), grid=True,\n",
    "                           legend=True, xlim=[-7, 7], ylim=[-4.5, 8])\n",
    "        grouped.plot(kind='scatter', ax=ax, x='pc1', y='pc2', c=grouped.index.map(color_maps[visualisoi]), grid=True, marker='X', s=400)\n",
    "        plt.show()\n",
    "\n",
    "w = interactive(visualize_data, puolue=puolue_widget, vaalipiiri=vaalipiiri_widget,\n",
    "                sukupuoli=sukupuoli_widget, koulutus=koulutus_widget,\n",
    "                visualisoi=visualize_column_widget)\n",
    "row1 = widgets.HBox([puolue_widget, vaalipiiri_widget])\n",
    "row2 = widgets.HBox([sukupuoli_widget, koulutus_widget])\n",
    "display(widgets.VBox([row1, row2, visualize_column_widget, plot_output]))"
   ]
  },
  {
   "cell_type": "code",
   "execution_count": null,
   "metadata": {},
   "outputs": [],
   "source": []
  },
  {
   "cell_type": "code",
   "execution_count": null,
   "metadata": {},
   "outputs": [],
   "source": []
  }
 ],
 "metadata": {
  "kernelspec": {
   "display_name": "inkubio_demo",
   "language": "python",
   "name": "inkubio_demo"
  },
  "language_info": {
   "codemirror_mode": {
    "name": "ipython",
    "version": 3
   },
   "file_extension": ".py",
   "mimetype": "text/x-python",
   "name": "python",
   "nbconvert_exporter": "python",
   "pygments_lexer": "ipython3",
   "version": "3.7.1"
  }
 },
 "nbformat": 4,
 "nbformat_minor": 2
}
